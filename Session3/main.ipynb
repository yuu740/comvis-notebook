{
 "cells": [
  {
   "cell_type": "markdown",
   "id": "cb7107fe",
   "metadata": {},
   "source": [
    "# Session 3 Hands on Lab\n",
    "\n"
   ]
  },
  {
   "cell_type": "markdown",
   "id": "f5aa98be",
   "metadata": {},
   "source": [
    "## Grayscale\n"
   ]
  },
  {
   "cell_type": "code",
   "execution_count": 2,
   "id": "ffa72cf8",
   "metadata": {},
   "outputs": [],
   "source": [
    "import cv2\n",
    "import numpy as np"
   ]
  },
  {
   "cell_type": "code",
   "execution_count": 4,
   "id": "ccce9db9",
   "metadata": {},
   "outputs": [
    {
     "name": "stdout",
     "output_type": "stream",
     "text": [
      "(833, 736, 3)\n",
      "(833, 736)\n"
     ]
    }
   ],
   "source": [
    "img = cv2.imread('./Session_3/Session_3/cat.jpg')\n",
    "gray = cv2.cvtColor(img, cv2.COLOR_BGR2GRAY)\n",
    "\n",
    "print(np.shape(img)) # width, height, channel\n",
    "print(np.shape(gray))\n",
    "\n"
   ]
  },
  {
   "cell_type": "markdown",
   "id": "1a99ebb2",
   "metadata": {},
   "source": [
    "## Filtering"
   ]
  },
  {
   "cell_type": "code",
   "execution_count": 5,
   "id": "b53979f4",
   "metadata": {},
   "outputs": [],
   "source": [
    "# meminta satu untuk k => kernel, terbagi menjadi berpixel pixel\n",
    "# perlu ditentukan ukurannya 3x3 misalnya, dicek dari 3x3 itu, sesuai dengan functionnya bakalan berubah ubah intensitasnya \n",
    "# setelah melakukan itu, bakalan ngegeser ke sampingnya lagi \n",
    "# cv2.blur => akan memakai mean, jadi akan diubah warnanya dengan rata rata dari kotak kotak yang ada di sebelahnya \n",
    "# cv2.medianBlur => memakan median (nilai tengah)"
   ]
  },
  {
   "cell_type": "markdown",
   "id": "d47a6698",
   "metadata": {},
   "source": [
    "### Blur"
   ]
  },
  {
   "cell_type": "code",
   "execution_count": null,
   "id": "d067fd02",
   "metadata": {},
   "outputs": [],
   "source": [
    "mean_blur = cv2.blur(gray, (100, 100)) #semakin besar jumlah kernelnya, semakin blur juga"
   ]
  },
  {
   "cell_type": "markdown",
   "id": "b10eb5f2",
   "metadata": {},
   "source": [
    "### gaussianBlur"
   ]
  },
  {
   "cell_type": "code",
   "execution_count": null,
   "id": "11e242a2",
   "metadata": {},
   "outputs": [],
   "source": [
    "# cv2.GaussianBlur([image], [size-> ganjil], [sigma])\n",
    "gaussian_blur = cv2.GaussianBlur(gray, (101, 101), 100)\n",
    "# ukurannya harus ganjil karena kalau genap, titik tengahnya akan lebih dari 1, kalau pakai angka genap akan error juga\n",
    "# sigma itu seperti ada matematikanya, bakalan hitungannya lebih blur kalau semakin besar untuk sigmanya\n"
   ]
  },
  {
   "cell_type": "markdown",
   "id": "7e206ff8",
   "metadata": {},
   "source": [
    "### medianBlur"
   ]
  },
  {
   "cell_type": "code",
   "execution_count": null,
   "id": "3c6e210e",
   "metadata": {},
   "outputs": [],
   "source": [
    "# cv2.medianBlur([image], [kernel size])\n",
    "\n",
    "median_blur = cv2.medianBlur(gray, 701)\n"
   ]
  },
  {
   "cell_type": "markdown",
   "id": "a5fbc686",
   "metadata": {},
   "source": [
    "## Thresholding"
   ]
  },
  {
   "cell_type": "markdown",
   "id": "8ff5362e",
   "metadata": {},
   "source": [
    "### binary"
   ]
  },
  {
   "cell_type": "markdown",
   "id": "911895f3",
   "metadata": {},
   "source": [
    "- setiap pixel memiliki nilai intensitas 0 - 255, untuk binary\n",
    "- intensitas >= threshold -> akan menguabah nilainya menjadi 255\n",
    "- intensitas <= threshold -> akan menguabah nilainya menjadi 0\n",
    "```python\n",
    "cv2.threshold(\n",
    "    [image], \n",
    "    [nilai threshold], \n",
    "    [maximum threshold -> 255], \n",
    "    [tipe dari threshold]\n",
    ")\n",
    "```\n",
    "bakal dibalikin 2 nilai \n",
    "\n",
    "-> retval, image(yang sudah dithreshold)"
   ]
  },
  {
   "cell_type": "code",
   "execution_count": 30,
   "id": "6a45b9f6",
   "metadata": {},
   "outputs": [
    {
     "name": "stdout",
     "output_type": "stream",
     "text": [
      "230.0\n"
     ]
    }
   ],
   "source": [
    "retval, binary_threshold = cv2.threshold(\n",
    "    gray, \n",
    "    230,\n",
    "    255,\n",
    "    cv2.THRESH_BINARY\n",
    ")\n",
    "\n",
    "print(retval)\n",
    "cv2.imshow('test', binary_threshold)\n",
    "cv2.waitKey(0)\n",
    "cv2.destroyAllWindows()"
   ]
  },
  {
   "cell_type": "markdown",
   "id": "df0a7312",
   "metadata": {},
   "source": [
    "## binary inverse"
   ]
  },
  {
   "cell_type": "markdown",
   "id": "fbbc6fcc",
   "metadata": {},
   "source": [
    "- setiap pixel memiliki nilai intensitas 0 - 255, untuk binary inverse\n",
    "- intensitas >= threshold -> akan menguabah nilainya menjadi 0\n",
    "- intensitas <= threshold -> akan menguabah nilainya menjadi 255\n",
    "```python\n",
    "cv2.threshold(\n",
    "    [image], \n",
    "    [nilai threshold], \n",
    "    [maximum threshold -> 255], \n",
    "    [tipe dari threshold]\n",
    ")\n",
    "```\n",
    "bakal dibalikin 2 nilai \n",
    "\n",
    "-> retval, image(yang sudah dithreshold)"
   ]
  },
  {
   "cell_type": "code",
   "execution_count": 42,
   "id": "39ed968a",
   "metadata": {},
   "outputs": [
    {
     "name": "stdout",
     "output_type": "stream",
     "text": [
      "230.0\n"
     ]
    }
   ],
   "source": [
    "retval, binary_threshold = cv2.threshold(\n",
    "    gray, \n",
    "    230,\n",
    "    255,\n",
    "    cv2.THRESH_BINARY_INV\n",
    ")\n",
    "\n",
    "print(retval)\n",
    "cv2.imshow('test', binary_threshold)\n",
    "cv2.waitKey(0)\n",
    "cv2.destroyAllWindows()"
   ]
  },
  {
   "cell_type": "markdown",
   "id": "49ed64b9",
   "metadata": {},
   "source": [
    "- setiap pixel memiliki nilai intensitas 0 - 255, untuk binary inverse\n",
    "- intensitas >= threshold -> akan menguabah nilainya menjadi threshold\n",
    "- intensitas < threshold -> akan menguabah nilainya menjadi 0\n",
    "```python\n",
    "cv2.threshold(\n",
    "    [image], \n",
    "    [nilai threshold], \n",
    "    [maximum threshold -> 255], \n",
    "    [tipe dari threshold]\n",
    ")\n",
    "```\n",
    "bakal dibalikin 2 nilai \n",
    "\n",
    "-> retval, image(yang sudah dithreshold)"
   ]
  },
  {
   "cell_type": "code",
   "execution_count": 43,
   "id": "8a2fffdb",
   "metadata": {},
   "outputs": [
    {
     "name": "stdout",
     "output_type": "stream",
     "text": [
      "10.0\n"
     ]
    }
   ],
   "source": [
    "retval, binary_threshold = cv2.threshold(\n",
    "    gray, \n",
    "    10,\n",
    "    25,\n",
    "    cv2.THRESH_TRUNC\n",
    ")\n",
    "\n",
    "print(retval)\n",
    "cv2.imshow('test', binary_threshold)\n",
    "cv2.waitKey(0)\n",
    "cv2.destroyAllWindows()"
   ]
  },
  {
   "cell_type": "markdown",
   "id": "f9599396",
   "metadata": {},
   "source": [
    "- setiap pixel memiliki nilai intensitas 0 - 255, untuk binary inverse\n",
    "- intensitas >= threshold -> akan menguabah nilainya menjadi 0\n",
    "- intensitas <= threshold -> diuba jadi \n",
    "```python\n",
    "cv2.threshold(\n",
    "    [image], \n",
    "    [nilai threshold], \n",
    "    [maximum threshold -> 255], \n",
    "    [tipe dari threshold]\n",
    ")\n",
    "```\n",
    "bakal dibalikin 2 nilai \n",
    "\n",
    "-> retval, image(yang sudah dithreshold)"
   ]
  },
  {
   "cell_type": "code",
   "execution_count": 44,
   "id": "d3a54967",
   "metadata": {},
   "outputs": [
    {
     "name": "stdout",
     "output_type": "stream",
     "text": [
      "150.0\n"
     ]
    }
   ],
   "source": [
    "retval, binary_threshold = cv2.threshold(\n",
    "    gray, \n",
    "    150,\n",
    "    255,\n",
    "    cv2.THRESH_TOZERO\n",
    ")\n",
    "\n",
    "print(retval)\n",
    "cv2.imshow('test', binary_threshold)\n",
    "cv2.waitKey(0)\n",
    "cv2.destroyAllWindows()"
   ]
  },
  {
   "cell_type": "code",
   "execution_count": 45,
   "id": "b1ed74c0",
   "metadata": {},
   "outputs": [
    {
     "name": "stdout",
     "output_type": "stream",
     "text": [
      "150.0\n"
     ]
    }
   ],
   "source": [
    "retval, binary_threshold = cv2.threshold(\n",
    "    gray, \n",
    "    150,\n",
    "    255,\n",
    "    cv2.THRESH_TOZERO_INV\n",
    ")\n",
    "\n",
    "print(retval)\n",
    "cv2.imshow('test', binary_threshold)\n",
    "cv2.waitKey(0)\n",
    "cv2.destroyAllWindows()"
   ]
  },
  {
   "cell_type": "code",
   "execution_count": 46,
   "id": "c4d1ec90",
   "metadata": {},
   "outputs": [
    {
     "name": "stdout",
     "output_type": "stream",
     "text": [
      "122.0\n"
     ]
    }
   ],
   "source": [
    "retval, binary_threshold = cv2.threshold(\n",
    "    gray, \n",
    "    150,\n",
    "    255,\n",
    "    cv2.THRESH_OTSU\n",
    ")\n",
    "\n",
    "print(retval)\n",
    "cv2.imshow('test', binary_threshold)\n",
    "cv2.waitKey(0)\n",
    "cv2.destroyAllWindows()"
   ]
  },
  {
   "cell_type": "code",
   "execution_count": 6,
   "id": "b1a8e3b4",
   "metadata": {},
   "outputs": [],
   "source": [
    "# adaptive threshold\n",
    "# cv2.adaptiveThreshold(\n",
    "#    [image],\n",
    "#    [maximum threshold -> 255],\n",
    "#    [algoritma adaptive (mean, gaussian)],\n",
    "#    [algoritma threshold],\n",
    "#    [kernel size],\n",
    "#    [C] => konstanta \n",
    "#)\n",
    "\n",
    "adaptive_threshold = cv2.adaptiveThreshold(\n",
    "    gray,\n",
    "    255,\n",
    "    cv2.ADAPTIVE_THRESH_MEAN_C,\n",
    "    cv2.THRESH_BINARY_INV,\n",
    "    11,\n",
    "    2\n",
    ")\n",
    "\n",
    "\n",
    "cv2.imshow('test', adaptive_threshold)\n",
    "cv2.waitKey()\n",
    "cv2.destroyAllWindows()"
   ]
  }
 ],
 "metadata": {
  "kernelspec": {
   "display_name": "computer_vision",
   "language": "python",
   "name": "python3"
  },
  "language_info": {
   "codemirror_mode": {
    "name": "ipython",
    "version": 3
   },
   "file_extension": ".py",
   "mimetype": "text/x-python",
   "name": "python",
   "nbconvert_exporter": "python",
   "pygments_lexer": "ipython3",
   "version": "3.12.4"
  }
 },
 "nbformat": 4,
 "nbformat_minor": 5
}
