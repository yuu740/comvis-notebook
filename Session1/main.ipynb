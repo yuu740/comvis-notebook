{
 "cells": [
  {
   "cell_type": "code",
   "execution_count": 2,
   "id": "c3876b0c",
   "metadata": {},
   "outputs": [
    {
     "name": "stdout",
     "output_type": "stream",
     "text": [
      "a\n"
     ]
    }
   ],
   "source": [
    "# Input / Output\n",
    "a = input()\n",
    "print(a)"
   ]
  },
  {
   "cell_type": "code",
   "execution_count": 3,
   "id": "82380716",
   "metadata": {},
   "outputs": [
    {
     "name": "stdout",
     "output_type": "stream",
     "text": [
      "0\n"
     ]
    }
   ],
   "source": [
    "# Mathematical Operator\n",
    "b = 2 - 2\n",
    "print(b)"
   ]
  },
  {
   "cell_type": "code",
   "execution_count": 8,
   "id": "ce7016a8",
   "metadata": {},
   "outputs": [
    {
     "name": "stdout",
     "output_type": "stream",
     "text": [
      "kurang dari 5\n"
     ]
    }
   ],
   "source": [
    "# if else\n",
    "a = 10\n",
    "if a < 5:\n",
    "    print(\"lebih dari 5\")\n",
    "else : \n",
    "    print(\"kurang dari 5\")"
   ]
  },
  {
   "cell_type": "code",
   "execution_count": null,
   "id": "34fb8664",
   "metadata": {},
   "outputs": [
    {
     "name": "stdout",
     "output_type": "stream",
     "text": [
      "test\n",
      "test\n",
      "test\n",
      "test\n",
      "test\n"
     ]
    }
   ],
   "source": [
    "# Loop\n",
    "for i in range(5):\n",
    "    print(\"test\")"
   ]
  },
  {
   "cell_type": "code",
   "execution_count": 9,
   "id": "b1be8ab4",
   "metadata": {},
   "outputs": [
    {
     "name": "stdout",
     "output_type": "stream",
     "text": [
      "Hello World\n"
     ]
    }
   ],
   "source": [
    "# Function\n",
    "def printHelloWorld():\n",
    "    print(\"Hello World\")\n",
    "\n",
    "\n",
    "printHelloWorld()"
   ]
  },
  {
   "cell_type": "code",
   "execution_count": 21,
   "id": "38eee60e",
   "metadata": {},
   "outputs": [
    {
     "data": {
      "text/plain": [
       "{'Name': 'Budi', 'Age': 20, 'Lulus': False, 'MakananFavorit': 'Burger'}"
      ]
     },
     "execution_count": 21,
     "metadata": {},
     "output_type": "execute_result"
    }
   ],
   "source": [
    "# Data Structure\n",
    "\n",
    "## List => Bisa append dan pop\n",
    "list_1 = [1, \"Hello\"]\n",
    "list_1.append(10)\n",
    "list_1.pop()\n",
    "list_1\n",
    "\n",
    "## Tuple => tidak bisa diapa apakan \n",
    "tuple_1 = (1,2,3)\n",
    "tuple_1\n",
    "\n",
    "## Set => Tidak melihat duplikat \n",
    "set_1 = {1,2,3,2,3}\n",
    "set_1\n",
    "set_1.remove(2)\n",
    "set_1\n",
    "\n",
    "## Dictionary => hubungan antara key dan value\n",
    "dict_1 = {\n",
    "   \"Name\": \"Budi\",\n",
    "   \"Age\": 20,\n",
    "   \"Lulus\": False\n",
    "}\n",
    "\n",
    "dict_1[\"Name\"]\n",
    "dict_1[\"MakananFavorit\"] = \"Burger\"\n",
    "dict_1\n"
   ]
  },
  {
   "cell_type": "code",
   "execution_count": 24,
   "id": "882bebb3",
   "metadata": {},
   "outputs": [
    {
     "name": "stdout",
     "output_type": "stream",
     "text": [
      "[1, 3, 5]\n",
      "[6, 5, 4, 3, 2, 1]\n"
     ]
    }
   ],
   "source": [
    "# Slicing\n",
    "list = [1,2,3,4,5,6]\n",
    "#[start:end:step]\n",
    "print(list[0:6:2])\n",
    "\n",
    "print(list[::-1])"
   ]
  },
  {
   "cell_type": "code",
   "execution_count": 25,
   "id": "5aee61bd",
   "metadata": {},
   "outputs": [],
   "source": [
    "import cv2"
   ]
  },
  {
   "cell_type": "code",
   "execution_count": null,
   "id": "afeb5e9a",
   "metadata": {},
   "outputs": [],
   "source": [
    "# imread -> membaca image yang mau \n",
    "img = cv2.imread(\"./Session_1/Session_1/photo2.jpg\")\n",
    "# resize -> ngubah ukuran\n",
    "img = cv2.resize(img, (400, 200))\n",
    "# cvtColor => ngubah warna\n",
    "gray = cv2.cvtColor(img, cv2.COLOR_BGR2GRAY)\n",
    "# imshow -> ngeshow image\n",
    "cv2.imshow(\"Kucing\", gray)\n",
    "cv2.waitKey(0)\n",
    "# imwrite -> buat nulis image\n",
    "# cv2.imwrite('./Session_1/Session_1/photo2_copy.jpg', img )\n",
    "cv2.destroyAllWindows()\n",
    "# ketika dishow butuh satu key untuk direturn, baru nanti dishow \n",
    "\n"
   ]
  },
  {
   "cell_type": "code",
   "execution_count": 36,
   "id": "4e8e0af5",
   "metadata": {},
   "outputs": [],
   "source": [
    "import numpy as np\n"
   ]
  },
  {
   "cell_type": "code",
   "execution_count": null,
   "id": "fab126fe",
   "metadata": {},
   "outputs": [
    {
     "name": "stdout",
     "output_type": "stream",
     "text": [
      "[[1 2 3]\n",
      " [4 5 6]]\n"
     ]
    }
   ],
   "source": [
    "# array\n",
    "a = np.array([[1, 2, 3], [4, 5, 6]])\n",
    "print(a)"
   ]
  },
  {
   "cell_type": "code",
   "execution_count": null,
   "id": "8f2d2f23",
   "metadata": {},
   "outputs": [
    {
     "name": "stdout",
     "output_type": "stream",
     "text": [
      "(2, 3)\n"
     ]
    }
   ],
   "source": [
    "# shape\n",
    "print(np.shape(a)) # bentuk kolomnya\n"
   ]
  },
  {
   "cell_type": "code",
   "execution_count": null,
   "id": "9e399ffb",
   "metadata": {},
   "outputs": [
    {
     "name": "stdout",
     "output_type": "stream",
     "text": [
      "2\n"
     ]
    }
   ],
   "source": [
    "# n-dimension \n",
    "print(np.ndim(a))"
   ]
  },
  {
   "cell_type": "code",
   "execution_count": null,
   "id": "963fa2e0",
   "metadata": {},
   "outputs": [
    {
     "name": "stdout",
     "output_type": "stream",
     "text": [
      "[[0. 0. 0.]\n",
      " [0. 0. 0.]\n",
      " [0. 0. 0.]]\n"
     ]
    }
   ],
   "source": [
    "# zeros\n",
    "b = np.zeros((3, 3))\n",
    "print(b)"
   ]
  },
  {
   "cell_type": "code",
   "execution_count": 46,
   "id": "7bad711e",
   "metadata": {},
   "outputs": [
    {
     "name": "stdout",
     "output_type": "stream",
     "text": [
      "[[1. 1. 1.]\n",
      " [1. 1. 1.]\n",
      " [1. 1. 1.]]\n"
     ]
    }
   ],
   "source": [
    "# ones\n",
    "c = np.ones((3,3))\n",
    "print(c)"
   ]
  },
  {
   "cell_type": "code",
   "execution_count": 47,
   "id": "44d8af6b",
   "metadata": {},
   "outputs": [
    {
     "name": "stdout",
     "output_type": "stream",
     "text": [
      "[[4.67296746e-307 1.69121096e-306 1.20161730e-306]\n",
      " [1.42419938e-306 7.56603881e-307 8.45603440e-307]\n",
      " [4.45046008e-307 6.23058707e-307 1.11262605e-307]\n",
      " [8.62237765e-308 1.20160711e-306 3.75602390e-317]]\n"
     ]
    }
   ],
   "source": [
    "# empty\n",
    "d = np.empty((4,3))\n",
    "print(d)"
   ]
  },
  {
   "cell_type": "code",
   "execution_count": null,
   "id": "2124b383",
   "metadata": {},
   "outputs": [
    {
     "name": "stdout",
     "output_type": "stream",
     "text": [
      "[[26.32 27.25 18.29]\n",
      " [91.38 61.78 43.06]\n",
      " [50.23 57.07 73.94]]\n"
     ]
    }
   ],
   "source": [
    "# random\n",
    "e = np.random.rand(3, 3) * 100\n",
    "e = np.round(e, 2)\n",
    "print(e)"
   ]
  },
  {
   "cell_type": "code",
   "execution_count": null,
   "id": "e8f45416",
   "metadata": {},
   "outputs": [
    {
     "name": "stdout",
     "output_type": "stream",
     "text": [
      "[[ 1  2  3]\n",
      " [10 20 30]]\n",
      "[ 1  2  3 10 20 30]\n"
     ]
    }
   ],
   "source": [
    "# vstack & hstack\n",
    "x = [1, 2, 3]\n",
    "y = [10, 20, 30]\n",
    "\n",
    "print(np.vstack((x, y)))\n",
    "print(np.hstack((x, y)))"
   ]
  },
  {
   "cell_type": "code",
   "execution_count": null,
   "id": "deecd2d6",
   "metadata": {},
   "outputs": [],
   "source": []
  }
 ],
 "metadata": {
  "kernelspec": {
   "display_name": "computer_vision",
   "language": "python",
   "name": "python3"
  },
  "language_info": {
   "codemirror_mode": {
    "name": "ipython",
    "version": 3
   },
   "file_extension": ".py",
   "mimetype": "text/x-python",
   "name": "python",
   "nbconvert_exporter": "python",
   "pygments_lexer": "ipython3",
   "version": "3.12.4"
  }
 },
 "nbformat": 4,
 "nbformat_minor": 5
}
