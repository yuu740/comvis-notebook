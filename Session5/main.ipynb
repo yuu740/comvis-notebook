{
 "cells": [
  {
   "cell_type": "markdown",
   "id": "9ea35782",
   "metadata": {},
   "source": [
    "# Session 5 Hands on Lab"
   ]
  },
  {
   "cell_type": "code",
   "execution_count": 1,
   "id": "7a19883f",
   "metadata": {},
   "outputs": [],
   "source": [
    "import cv2"
   ]
  },
  {
   "cell_type": "code",
   "execution_count": null,
   "id": "3ba19e19",
   "metadata": {},
   "outputs": [],
   "source": [
    "img = cv2.imread"
   ]
  }
 ],
 "metadata": {
  "kernelspec": {
   "display_name": "computer_vision",
   "language": "python",
   "name": "python3"
  },
  "language_info": {
   "codemirror_mode": {
    "name": "ipython",
    "version": 3
   },
   "file_extension": ".py",
   "mimetype": "text/x-python",
   "name": "python",
   "nbconvert_exporter": "python",
   "pygments_lexer": "ipython3",
   "version": "3.12.4"
  }
 },
 "nbformat": 4,
 "nbformat_minor": 5
}
