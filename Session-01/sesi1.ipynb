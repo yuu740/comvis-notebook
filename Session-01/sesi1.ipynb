{
 "cells": [
  {
   "cell_type": "markdown",
   "id": "c8dae062",
   "metadata": {},
   "source": [
    "# Introduction to Python"
   ]
  },
  {
   "cell_type": "markdown",
   "id": "f32e2528",
   "metadata": {},
   "source": [
    "## input and output"
   ]
  },
  {
   "cell_type": "code",
   "execution_count": null,
   "id": "fa793275",
   "metadata": {},
   "outputs": [
    {
     "name": "stdout",
     "output_type": "stream",
     "text": [
      "dkf\n"
     ]
    }
   ],
   "source": [
    "a = input()\n",
    "\n",
    "print(a)"
   ]
  },
  {
   "cell_type": "markdown",
   "id": "e8d8d073",
   "metadata": {},
   "source": [
    "## mathematical operator"
   ]
  },
  {
   "cell_type": "code",
   "execution_count": null,
   "id": "72f8ab5a",
   "metadata": {},
   "outputs": [
    {
     "name": "stdout",
     "output_type": "stream",
     "text": [
      "4\n"
     ]
    }
   ],
   "source": [
    "b = 2 + 2\n",
    "\n",
    "print(b)"
   ]
  },
  {
   "cell_type": "markdown",
   "id": "14a01401",
   "metadata": {},
   "source": [
    "## conditional statement"
   ]
  },
  {
   "cell_type": "code",
   "execution_count": null,
   "id": "49d22c09",
   "metadata": {},
   "outputs": [
    {
     "name": "stdout",
     "output_type": "stream",
     "text": [
      "lebih dari 5\n"
     ]
    }
   ],
   "source": [
    "a = 10\n",
    "\n",
    "if a > 5:\n",
    "    print('lebih dari 5')\n",
    "else:\n",
    "    print('kurang dari 5')"
   ]
  },
  {
   "cell_type": "markdown",
   "id": "f2e0c639",
   "metadata": {},
   "source": [
    "## looping"
   ]
  },
  {
   "cell_type": "code",
   "execution_count": null,
   "id": "47584ffc",
   "metadata": {},
   "outputs": [
    {
     "name": "stdout",
     "output_type": "stream",
     "text": [
      "tes\n",
      "tes\n",
      "tes\n",
      "tes\n",
      "tes\n"
     ]
    }
   ],
   "source": [
    "for i in range(5):\n",
    "    print('tes')"
   ]
  },
  {
   "cell_type": "markdown",
   "id": "8e243e4c",
   "metadata": {},
   "source": [
    "## definition/function"
   ]
  },
  {
   "cell_type": "code",
   "execution_count": 9,
   "id": "6f63ab17",
   "metadata": {},
   "outputs": [
    {
     "name": "stdout",
     "output_type": "stream",
     "text": [
      "Hello World!\n"
     ]
    }
   ],
   "source": [
    "def printHelloWorld():\n",
    "    print('Hello World!')\n",
    "\n",
    "printHelloWorld()"
   ]
  },
  {
   "cell_type": "markdown",
   "id": "6b13c6a2",
   "metadata": {},
   "source": [
    "## list"
   ]
  },
  {
   "cell_type": "code",
   "execution_count": 10,
   "id": "cd14bb58",
   "metadata": {},
   "outputs": [
    {
     "data": {
      "text/plain": [
       "[1]"
      ]
     },
     "execution_count": 10,
     "metadata": {},
     "output_type": "execute_result"
    }
   ],
   "source": [
    "list_1 = [1, 'halo']\n",
    "list_1.append(10)\n",
    "list_1.pop()\n",
    "list_1.pop()\n",
    "list_1"
   ]
  },
  {
   "cell_type": "markdown",
   "id": "1da098a2",
   "metadata": {},
   "source": [
    "## tuple"
   ]
  },
  {
   "cell_type": "code",
   "execution_count": 12,
   "id": "0d4ad993",
   "metadata": {},
   "outputs": [
    {
     "data": {
      "text/plain": [
       "(1, 2, 3)"
      ]
     },
     "execution_count": 12,
     "metadata": {},
     "output_type": "execute_result"
    }
   ],
   "source": [
    "tuple_1 = (1, 2, 3)\n",
    "tuple_1"
   ]
  },
  {
   "cell_type": "markdown",
   "id": "b58e99f2",
   "metadata": {},
   "source": [
    "## set"
   ]
  },
  {
   "cell_type": "code",
   "execution_count": 14,
   "id": "2e260171",
   "metadata": {},
   "outputs": [
    {
     "data": {
      "text/plain": [
       "{1, 2, 3}"
      ]
     },
     "execution_count": 14,
     "metadata": {},
     "output_type": "execute_result"
    }
   ],
   "source": [
    "set_1 = {1, 2, 2, 3, 3}\n",
    "set_1"
   ]
  },
  {
   "cell_type": "markdown",
   "id": "47ea9ba4",
   "metadata": {},
   "source": [
    "## dictionary"
   ]
  },
  {
   "cell_type": "code",
   "execution_count": 19,
   "id": "3bc8d7df",
   "metadata": {},
   "outputs": [
    {
     "name": "stdout",
     "output_type": "stream",
     "text": [
      "{'Name': 'Budi', 'Age': 20, 'Lulus': False}\n",
      "{'Name': 'Budi', 'Age': 20, 'Lulus': False, 'Makanan Favorit': 'Burger'}\n"
     ]
    }
   ],
   "source": [
    "dict_1 = {\n",
    "    'Name': 'Budi',\n",
    "    'Age': 20,\n",
    "    'Lulus': False\n",
    "}\n",
    "\n",
    "print(dict_1)\n",
    "\n",
    "dict_1['Makanan Favorit'] = 'Burger'\n",
    "\n",
    "print(dict_1)"
   ]
  },
  {
   "cell_type": "markdown",
   "id": "800cc088",
   "metadata": {},
   "source": [
    "## slicing"
   ]
  },
  {
   "cell_type": "code",
   "execution_count": 24,
   "id": "843dadc2",
   "metadata": {},
   "outputs": [
    {
     "name": "stdout",
     "output_type": "stream",
     "text": [
      "[1, 2]\n",
      "[1, 3, 5]\n",
      "[6, 5, 4, 3, 2, 1]\n"
     ]
    }
   ],
   "source": [
    "list = [1, 2, 3, 4, 5, 6]\n",
    "\n",
    "# list[start:end:step]\n",
    "print(list[:2])\n",
    "\n",
    "print(list[::2])\n",
    "\n",
    "print(list[::-1])"
   ]
  },
  {
   "cell_type": "markdown",
   "id": "b490cd99",
   "metadata": {},
   "source": [
    "# Actual Material (cv2 / image processing)"
   ]
  },
  {
   "cell_type": "code",
   "execution_count": 26,
   "id": "6eb706e2",
   "metadata": {},
   "outputs": [],
   "source": [
    "import cv2"
   ]
  },
  {
   "cell_type": "markdown",
   "id": "ac1d9759",
   "metadata": {},
   "source": [
    "cv2 functions breakdown\n",
    "- imread -> read image\n",
    "- imshow -> show image\n",
    "- imwrite -> writting image\n",
    "- cvtColor -> change color\n",
    "- resize -> change size"
   ]
  },
  {
   "cell_type": "code",
   "execution_count": 39,
   "id": "355aa462",
   "metadata": {},
   "outputs": [],
   "source": [
    "img = cv2.imread('./Session_1/Session_1/photo2.jpg')\n",
    "img = cv2.resize(img, (400, 200))\n",
    "\n",
    "gray = cv2.cvtColor(img, cv2.COLOR_BGR2GRAY)\n",
    "\n",
    "cv2.imshow('Cat', gray)\n",
    "cv2.waitKey(0)\n",
    "# cv2.imwrite('photo2_copy.jpg', img)\n",
    "cv2.destroyAllWindows()"
   ]
  },
  {
   "cell_type": "markdown",
   "id": "34bf271b",
   "metadata": {},
   "source": [
    "# Numpy"
   ]
  },
  {
   "cell_type": "code",
   "execution_count": 40,
   "id": "92a3d307",
   "metadata": {},
   "outputs": [],
   "source": [
    "import numpy as np"
   ]
  },
  {
   "cell_type": "markdown",
   "id": "68eda0d3",
   "metadata": {},
   "source": [
    "## array"
   ]
  },
  {
   "cell_type": "markdown",
   "id": "816decdf",
   "metadata": {},
   "source": [
    "### 2d array"
   ]
  },
  {
   "cell_type": "code",
   "execution_count": 41,
   "id": "f777b116",
   "metadata": {},
   "outputs": [
    {
     "name": "stdout",
     "output_type": "stream",
     "text": [
      "[1 2 3]\n"
     ]
    }
   ],
   "source": [
    "a = np.array([1, 2, 3])\n",
    "print(a)"
   ]
  },
  {
   "cell_type": "markdown",
   "id": "c5002f75",
   "metadata": {},
   "source": [
    "### 3d array"
   ]
  },
  {
   "cell_type": "code",
   "execution_count": 48,
   "id": "c20e917a",
   "metadata": {},
   "outputs": [
    {
     "name": "stdout",
     "output_type": "stream",
     "text": [
      "[[1 2 3]\n",
      " [4 5 6]]\n",
      "(2, 3)\n",
      "2\n"
     ]
    }
   ],
   "source": [
    "b = np.array([\n",
    "    (1, 2, 3),\n",
    "    (4, 5, 6)\n",
    "])\n",
    "\n",
    "print(b)\n",
    "print(np.shape(b))\n",
    "print(np.ndim(b))"
   ]
  },
  {
   "cell_type": "markdown",
   "id": "cee48405",
   "metadata": {},
   "source": [
    "### zeros"
   ]
  },
  {
   "cell_type": "code",
   "execution_count": 50,
   "id": "bac7a835",
   "metadata": {},
   "outputs": [
    {
     "name": "stdout",
     "output_type": "stream",
     "text": [
      "[[0. 0. 0.]\n",
      " [0. 0. 0.]\n",
      " [0. 0. 0.]]\n"
     ]
    }
   ],
   "source": [
    "zeroes = np.zeros((3, 3))\n",
    "\n",
    "print(zeroes)"
   ]
  },
  {
   "cell_type": "markdown",
   "id": "b7a2503f",
   "metadata": {},
   "source": [
    "### ones"
   ]
  },
  {
   "cell_type": "code",
   "execution_count": 51,
   "id": "cc166f05",
   "metadata": {},
   "outputs": [
    {
     "name": "stdout",
     "output_type": "stream",
     "text": [
      "[[1. 1. 1.]\n",
      " [1. 1. 1.]\n",
      " [1. 1. 1.]]\n"
     ]
    }
   ],
   "source": [
    "c = np.ones((3, 3))\n",
    "\n",
    "print(c)"
   ]
  },
  {
   "cell_type": "markdown",
   "id": "ce6f4bac",
   "metadata": {},
   "source": [
    "### empty"
   ]
  },
  {
   "cell_type": "code",
   "execution_count": 53,
   "id": "73ffe27e",
   "metadata": {},
   "outputs": [
    {
     "name": "stdout",
     "output_type": "stream",
     "text": [
      "[[1.01855798e-312 1.12465777e-312 1.01855798e-312]\n",
      " [9.54898106e-313 1.20953760e-312 1.03977794e-312]\n",
      " [1.23075756e-312 1.08221785e-312 1.08221785e-312]\n",
      " [9.76118064e-313 1.18831764e-312 1.90979621e-312]]\n"
     ]
    }
   ],
   "source": [
    "d = np.empty((4, 3))\n",
    "\n",
    "print(d)"
   ]
  },
  {
   "cell_type": "markdown",
   "id": "25835889",
   "metadata": {},
   "source": [
    "### random"
   ]
  },
  {
   "cell_type": "code",
   "execution_count": 56,
   "id": "a34e50a8",
   "metadata": {},
   "outputs": [
    {
     "name": "stdout",
     "output_type": "stream",
     "text": [
      "[[13.30059358 10.98232426 89.79565245]\n",
      " [16.750964   30.94319995 59.70247783]\n",
      " [70.21838573 67.47278725 21.97673339]]\n"
     ]
    }
   ],
   "source": [
    "e = np.random.rand(3, 3) * 100\n",
    "\n",
    "print(e)"
   ]
  },
  {
   "cell_type": "markdown",
   "id": "f028baf1",
   "metadata": {},
   "source": [
    "### vstack -> vertical stacking"
   ]
  },
  {
   "cell_type": "code",
   "execution_count": 58,
   "id": "66f936ff",
   "metadata": {},
   "outputs": [
    {
     "name": "stdout",
     "output_type": "stream",
     "text": [
      "[[ 1  2  3]\n",
      " [10 20 30]]\n"
     ]
    }
   ],
   "source": [
    "x = [1, 2, 3]\n",
    "y = [10, 20, 30]\n",
    "\n",
    "print(np.vstack((x, y)))"
   ]
  },
  {
   "cell_type": "markdown",
   "id": "17cebd1c",
   "metadata": {},
   "source": [
    "### hstack -> horizontal stacking"
   ]
  },
  {
   "cell_type": "code",
   "execution_count": 59,
   "id": "605f3d29",
   "metadata": {},
   "outputs": [
    {
     "name": "stdout",
     "output_type": "stream",
     "text": [
      "[ 1  2  3 10 20 30]\n"
     ]
    }
   ],
   "source": [
    "x = [1, 2, 3]\n",
    "y = [10, 20, 30]\n",
    "\n",
    "print(np.hstack((x, y)))"
   ]
  }
 ],
 "metadata": {
  "kernelspec": {
   "display_name": "computer_vision",
   "language": "python",
   "name": "python3"
  },
  "language_info": {
   "codemirror_mode": {
    "name": "ipython",
    "version": 3
   },
   "file_extension": ".py",
   "mimetype": "text/x-python",
   "name": "python",
   "nbconvert_exporter": "python",
   "pygments_lexer": "ipython3",
   "version": "3.12.4"
  }
 },
 "nbformat": 4,
 "nbformat_minor": 5
}
